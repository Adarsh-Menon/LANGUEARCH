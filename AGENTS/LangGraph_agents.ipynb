{
 "cells": [
  {
   "cell_type": "code",
   "execution_count": 1,
   "id": "c54452bf",
   "metadata": {},
   "outputs": [],
   "source": [
    "from langchain_openai import ChatOpenAI\n",
    "from dotenv import load_dotenv"
   ]
  },
  {
   "cell_type": "code",
   "execution_count": 2,
   "id": "07922bf9",
   "metadata": {},
   "outputs": [
    {
     "data": {
      "text/plain": [
       "True"
      ]
     },
     "execution_count": 2,
     "metadata": {},
     "output_type": "execute_result"
    }
   ],
   "source": [
    "load_dotenv()"
   ]
  },
  {
   "cell_type": "code",
   "execution_count": 3,
   "id": "0ddaecf2",
   "metadata": {},
   "outputs": [],
   "source": [
    "openai_model = ChatOpenAI(model=\"gpt-4o\")"
   ]
  },
  {
   "cell_type": "code",
   "execution_count": 4,
   "id": "9bdfe036",
   "metadata": {},
   "outputs": [
    {
     "data": {
      "text/plain": [
       "'Hello! How can I assist you today?'"
      ]
     },
     "execution_count": 4,
     "metadata": {},
     "output_type": "execute_result"
    }
   ],
   "source": [
    "openai_model.invoke(\"hi\").content"
   ]
  },
  {
   "cell_type": "code",
   "execution_count": 5,
   "id": "32f96442",
   "metadata": {},
   "outputs": [],
   "source": [
    "from langgraph.graph import MessagesState,StateGraph, END, START\n",
    "from langgraph.graph.message import add_messages\n",
    "from typing import Annotated , Literal , TypedDict\n",
    "from langchain_core.tools import tool\n",
    "from langchain_core.messages import HumanMessage\n",
    "from langgraph.checkpoint.memory import MemorySaver\n",
    "from langgraph.prebuilt import ToolNode "
   ]
  },
  {
   "cell_type": "code",
   "execution_count": null,
   "id": "5c050aea",
   "metadata": {},
   "outputs": [],
   "source": []
  },
  {
   "cell_type": "code",
   "execution_count": 6,
   "id": "a829a80f",
   "metadata": {},
   "outputs": [],
   "source": [
    "def call_model(state:MessagesState):\n",
    "    question = state[\"messages\"]\n",
    "    response=openai_model.invoke(question)\n",
    "    return {\"messages\":[response]}"
   ]
  },
  {
   "cell_type": "markdown",
   "id": "49ed70cd",
   "metadata": {},
   "source": [
    "# BASIC WORKFLOW"
   ]
  },
  {
   "cell_type": "code",
   "execution_count": 7,
   "id": "c50ffd49",
   "metadata": {},
   "outputs": [],
   "source": [
    "WorkFlow = StateGraph(MessagesState)"
   ]
  },
  {
   "cell_type": "code",
   "execution_count": 8,
   "id": "8c9987ba",
   "metadata": {},
   "outputs": [
    {
     "data": {
      "text/plain": [
       "<langgraph.graph.state.StateGraph at 0x7736fd6fd2b0>"
      ]
     },
     "execution_count": 8,
     "metadata": {},
     "output_type": "execute_result"
    }
   ],
   "source": [
    "WorkFlow.add_node(\"chatbot\",call_model)"
   ]
  },
  {
   "cell_type": "code",
   "execution_count": 9,
   "id": "568b3b38",
   "metadata": {},
   "outputs": [
    {
     "data": {
      "text/plain": [
       "<langgraph.graph.state.StateGraph at 0x7736fd6fd2b0>"
      ]
     },
     "execution_count": 9,
     "metadata": {},
     "output_type": "execute_result"
    }
   ],
   "source": [
    "WorkFlow.add_edge(START,\"chatbot\")"
   ]
  },
  {
   "cell_type": "code",
   "execution_count": 10,
   "id": "2f64aa91",
   "metadata": {},
   "outputs": [
    {
     "data": {
      "text/plain": [
       "<langgraph.graph.state.StateGraph at 0x7736fd6fd2b0>"
      ]
     },
     "execution_count": 10,
     "metadata": {},
     "output_type": "execute_result"
    }
   ],
   "source": [
    "WorkFlow.add_edge(\"chatbot\",END)"
   ]
  },
  {
   "cell_type": "code",
   "execution_count": 11,
   "id": "a446b3ef",
   "metadata": {},
   "outputs": [],
   "source": [
    "app = WorkFlow.compile()"
   ]
  },
  {
   "cell_type": "code",
   "execution_count": 12,
   "id": "64dcc69f",
   "metadata": {},
   "outputs": [],
   "source": [
    "from IPython.display import Image , display"
   ]
  },
  {
   "cell_type": "code",
   "execution_count": 13,
   "id": "6edba9e1",
   "metadata": {},
   "outputs": [
    {
     "data": {
      "image/png": "[encoded data removed]",
      "text/plain": [
       "<IPython.core.display.Image object>"
      ]
     },
     "metadata": {},
     "output_type": "display_data"
    }
   ],
   "source": [
    "display(Image(app.get_graph().draw_mermaid_png()))"
   ]
  },
  {
   "cell_type": "code",
   "execution_count": 14,
   "id": "a11e72ba",
   "metadata": {},
   "outputs": [],
   "source": [
    "input = {\"messages\":[\"hi,My Name is Adarsh\"]}\n",
    "response = app.invoke(input)"
   ]
  },
  {
   "cell_type": "code",
   "execution_count": 15,
   "id": "5848457e",
   "metadata": {},
   "outputs": [
    {
     "data": {
      "text/plain": [
       "'Hello, Adarsh! How can I assist you today?'"
      ]
     },
     "execution_count": 15,
     "metadata": {},
     "output_type": "execute_result"
    }
   ],
   "source": [
    "response['messages'][-1].content"
   ]
  },
  {
   "cell_type": "code",
   "execution_count": 16,
   "id": "8db17cca",
   "metadata": {},
   "outputs": [
    {
     "name": "stdout",
     "output_type": "stream",
     "text": [
      "output from chatbot Node\n",
      "________\n",
      "{'messages': [AIMessage(content='Hello Adarsh! How can I assist you today?', additional_kwargs={'refusal': None}, response_metadata={'token_usage': {'completion_tokens': 12, 'prompt_tokens': 15, 'total_tokens': 27, 'completion_tokens_details': {'accepted_prediction_tokens': 0, 'audio_tokens': 0, 'reasoning_tokens': 0, 'rejected_prediction_tokens': 0}, 'prompt_tokens_details': {'audio_tokens': 0, 'cached_tokens': 0}}, 'model_name': 'gpt-4o-2024-08-06', 'system_fingerprint': 'fp_07871e2ad8', 'id': 'chatcmpl-BgUv5so2pyuleQlJ70tVngqWyvFnc', 'service_tier': 'default', 'finish_reason': 'stop', 'logprobs': None}, id='run--9f6c40ff-aed8-4e86-90ca-ac3f0379e55b-0', usage_metadata={'input_tokens': 15, 'output_tokens': 12, 'total_tokens': 27, 'input_token_details': {'audio': 0, 'cache_read': 0}, 'output_token_details': {'audio': 0, 'reasoning': 0}})]}\n",
      "\n",
      "\n"
     ]
    }
   ],
   "source": [
    "for output in app.stream(input):\n",
    "    for key,value in output.items():\n",
    "        print(f\"output from {key} Node\")\n",
    "        print(\"________\")\n",
    "        print(value)\n",
    "        print(\"\\n\")"
   ]
  },
  {
   "cell_type": "code",
   "execution_count": 17,
   "id": "b512a907",
   "metadata": {},
   "outputs": [
    {
     "name": "stdout",
     "output_type": "stream",
     "text": [
      "{'chatbot': {'messages': [AIMessage(content='Hello, Adarsh! How can I assist you today?', additional_kwargs={'refusal': None}, response_metadata={'token_usage': {'completion_tokens': 13, 'prompt_tokens': 15, 'total_tokens': 28, 'completion_tokens_details': {'accepted_prediction_tokens': 0, 'audio_tokens': 0, 'reasoning_tokens': 0, 'rejected_prediction_tokens': 0}, 'prompt_tokens_details': {'audio_tokens': 0, 'cached_tokens': 0}}, 'model_name': 'gpt-4o-2024-08-06', 'system_fingerprint': 'fp_07871e2ad8', 'id': 'chatcmpl-BgUv6TdGEar6yCH4dLqgXA28BGtux', 'service_tier': 'default', 'finish_reason': 'stop', 'logprobs': None}, id='run--5db4bd3c-8894-4563-a91e-590b2686f499-0', usage_metadata={'input_tokens': 15, 'output_tokens': 13, 'total_tokens': 28, 'input_token_details': {'audio': 0, 'cache_read': 0}, 'output_token_details': {'audio': 0, 'reasoning': 0}})]}}\n"
     ]
    }
   ],
   "source": [
    "for output in app.stream(input):\n",
    "    print(output)"
   ]
  },
  {
   "cell_type": "code",
   "execution_count": 18,
   "id": "504a7604",
   "metadata": {},
   "outputs": [],
   "source": [
    "@tool\n",
    "def search(query:str):\n",
    "    \"\"\"\n",
    "    this is a tool for weather checking\n",
    "    \"\"\"\n",
    "    if \"india\" in query.lower() or \"delhi\" in query.lower():\n",
    "        return \"the weather is hotty with some foggy\"\n",
    "    return \"weather is cludy with some darkness\""
   ]
  },
  {
   "cell_type": "code",
   "execution_count": 19,
   "id": "0c5e9090",
   "metadata": {},
   "outputs": [
    {
     "data": {
      "text/plain": [
       "'weather is cludy with some darkness'"
      ]
     },
     "execution_count": 19,
     "metadata": {},
     "output_type": "execute_result"
    }
   ],
   "source": [
    "search.invoke(\"what is weather in japan?\")"
   ]
  },
  {
   "cell_type": "code",
   "execution_count": 20,
   "id": "6b9d28b3",
   "metadata": {},
   "outputs": [
    {
     "data": {
      "text/plain": [
       "'the weather is hotty with some foggy'"
      ]
     },
     "execution_count": 20,
     "metadata": {},
     "output_type": "execute_result"
    }
   ],
   "source": [
    "search.invoke(\"what is weather in india?\")"
   ]
  },
  {
   "cell_type": "code",
   "execution_count": 21,
   "id": "7af1f42e",
   "metadata": {},
   "outputs": [],
   "source": [
    "tools=[search]"
   ]
  },
  {
   "cell_type": "code",
   "execution_count": 22,
   "id": "a56a7555",
   "metadata": {},
   "outputs": [],
   "source": [
    "llm_with_tool = openai_model.bind_tools(tools)"
   ]
  },
  {
   "cell_type": "code",
   "execution_count": 23,
   "id": "cc27ce98",
   "metadata": {},
   "outputs": [
    {
     "data": {
      "text/plain": [
       "AIMessage(content='Hello! How can I assist you today?', additional_kwargs={'refusal': None}, response_metadata={'token_usage': {'completion_tokens': 10, 'prompt_tokens': 45, 'total_tokens': 55, 'completion_tokens_details': {'accepted_prediction_tokens': 0, 'audio_tokens': 0, 'reasoning_tokens': 0, 'rejected_prediction_tokens': 0}, 'prompt_tokens_details': {'audio_tokens': 0, 'cached_tokens': 0}}, 'model_name': 'gpt-4o-2024-08-06', 'system_fingerprint': 'fp_a288987b44', 'id': 'chatcmpl-BgUv8kZABX7NJcRTbzXQi3h6UGWEr', 'service_tier': 'default', 'finish_reason': 'stop', 'logprobs': None}, id='run--f62ad265-3d8b-4858-ba41-b16af69eb625-0', usage_metadata={'input_tokens': 45, 'output_tokens': 10, 'total_tokens': 55, 'input_token_details': {'audio': 0, 'cache_read': 0}, 'output_token_details': {'audio': 0, 'reasoning': 0}})"
      ]
     },
     "execution_count": 23,
     "metadata": {},
     "output_type": "execute_result"
    }
   ],
   "source": [
    "llm_with_tool.invoke(\"hi\")"
   ]
  },
  {
   "cell_type": "code",
   "execution_count": 24,
   "id": "25352974",
   "metadata": {},
   "outputs": [],
   "source": [
    "response = llm_with_tool.invoke(\"Whats the weather in europe\")"
   ]
  },
  {
   "cell_type": "code",
   "execution_count": 25,
   "id": "74e8e390",
   "metadata": {},
   "outputs": [
    {
     "data": {
      "text/plain": [
       "''"
      ]
     },
     "execution_count": 25,
     "metadata": {},
     "output_type": "execute_result"
    }
   ],
   "source": [
    "response.content"
   ]
  },
  {
   "cell_type": "code",
   "execution_count": 26,
   "id": "02a24080",
   "metadata": {},
   "outputs": [
    {
     "data": {
      "text/plain": [
       "[{'name': 'search',\n",
       "  'args': {'query': 'weather in Europe'},\n",
       "  'id': 'call_miHMN7th9VzNYQdpNO20nkAv',\n",
       "  'type': 'tool_call'}]"
      ]
     },
     "execution_count": 26,
     "metadata": {},
     "output_type": "execute_result"
    }
   ],
   "source": [
    "response.tool_calls"
   ]
  },
  {
   "cell_type": "code",
   "execution_count": 27,
   "id": "2fd87ecc",
   "metadata": {},
   "outputs": [],
   "source": [
    "def call_model(state:MessagesState):\n",
    "    question = state[\"messages\"]\n",
    "    response=llm_with_tool.invoke(question)\n",
    "    return {\"messages\":[response]}"
   ]
  },
  {
   "cell_type": "code",
   "execution_count": 28,
   "id": "ee34ee55",
   "metadata": {},
   "outputs": [],
   "source": [
    "input = {'messages':[\"Whats the weather in europe\"]}"
   ]
  },
  {
   "cell_type": "code",
   "execution_count": 29,
   "id": "f52470e2",
   "metadata": {},
   "outputs": [],
   "source": [
    "response = call_model(input)"
   ]
  },
  {
   "cell_type": "code",
   "execution_count": 30,
   "id": "6cb55bf0",
   "metadata": {},
   "outputs": [
    {
     "data": {
      "text/plain": [
       "[AIMessage(content='', additional_kwargs={'tool_calls': [{'id': 'call_hHPK8uArHvn47ii7Nn6dSLE5', 'function': {'arguments': '{\"query\":\"current weather in Europe\"}', 'name': 'search'}, 'type': 'function'}], 'refusal': None}, response_metadata={'token_usage': {'completion_tokens': 16, 'prompt_tokens': 49, 'total_tokens': 65, 'completion_tokens_details': {'accepted_prediction_tokens': 0, 'audio_tokens': 0, 'reasoning_tokens': 0, 'rejected_prediction_tokens': 0}, 'prompt_tokens_details': {'audio_tokens': 0, 'cached_tokens': 0}}, 'model_name': 'gpt-4o-2024-08-06', 'system_fingerprint': 'fp_a288987b44', 'id': 'chatcmpl-BgUv95bbcq3FvRkwdrfOj9JlOaZkp', 'service_tier': 'default', 'finish_reason': 'tool_calls', 'logprobs': None}, id='run--256915d9-3d96-499d-9d91-e3d2ee79617a-0', tool_calls=[{'name': 'search', 'args': {'query': 'current weather in Europe'}, 'id': 'call_hHPK8uArHvn47ii7Nn6dSLE5', 'type': 'tool_call'}], usage_metadata={'input_tokens': 49, 'output_tokens': 16, 'total_tokens': 65, 'input_token_details': {'audio': 0, 'cache_read': 0}, 'output_token_details': {'audio': 0, 'reasoning': 0}})]"
      ]
     },
     "execution_count": 30,
     "metadata": {},
     "output_type": "execute_result"
    }
   ],
   "source": [
    "message = response[\"messages\"]\n",
    "message"
   ]
  },
  {
   "cell_type": "code",
   "execution_count": 31,
   "id": "7271fdd6",
   "metadata": {},
   "outputs": [
    {
     "data": {
      "text/plain": [
       "''"
      ]
     },
     "execution_count": 31,
     "metadata": {},
     "output_type": "execute_result"
    }
   ],
   "source": [
    "last_message = message[-1]\n",
    "last_message.content"
   ]
  },
  {
   "cell_type": "code",
   "execution_count": 32,
   "id": "26ed64f1",
   "metadata": {},
   "outputs": [
    {
     "data": {
      "text/plain": [
       "[{'name': 'search',\n",
       "  'args': {'query': 'current weather in Europe'},\n",
       "  'id': 'call_hHPK8uArHvn47ii7Nn6dSLE5',\n",
       "  'type': 'tool_call'}]"
      ]
     },
     "execution_count": 32,
     "metadata": {},
     "output_type": "execute_result"
    }
   ],
   "source": [
    "last_message.tool_calls"
   ]
  },
  {
   "cell_type": "code",
   "execution_count": 33,
   "id": "b98a4eb1",
   "metadata": {},
   "outputs": [],
   "source": [
    "#now we need to orchestrate the tool call using lang graph\n",
    "\n",
    "def router_function(state:MessagesState):\n",
    "    message = state[\"messages\"]\n",
    "    last_message = message[-1]\n",
    "    if last_message.tool_calls:\n",
    "        return \"tools\"\n",
    "    return END"
   ]
  },
  {
   "cell_type": "code",
   "execution_count": 34,
   "id": "1f3f0fc1",
   "metadata": {},
   "outputs": [],
   "source": [
    "tool_node = ToolNode(tools)"
   ]
  },
  {
   "cell_type": "code",
   "execution_count": 35,
   "id": "6f430a27",
   "metadata": {},
   "outputs": [],
   "source": [
    "WorkFlow = StateGraph(MessagesState)"
   ]
  },
  {
   "cell_type": "code",
   "execution_count": 36,
   "id": "d20c0469",
   "metadata": {},
   "outputs": [
    {
     "data": {
      "text/plain": [
       "<langgraph.graph.state.StateGraph at 0x7736fdd2e3f0>"
      ]
     },
     "execution_count": 36,
     "metadata": {},
     "output_type": "execute_result"
    }
   ],
   "source": [
    "WorkFlow.add_node(\"assist\",call_model)\n",
    "WorkFlow.add_node(\"myweathertool\",tool_node)"
   ]
  },
  {
   "cell_type": "code",
   "execution_count": 37,
   "id": "9739e5c0",
   "metadata": {},
   "outputs": [],
   "source": [
    "WorkFlow.add_edge(START,\"assist\")\n",
    "WorkFlow.add_conditional_edges(\"assist\",router_function,{\"tools\":\"myweathertool\",END:END})\n",
    "\n",
    "app = WorkFlow.compile()"
   ]
  },
  {
   "cell_type": "code",
   "execution_count": 38,
   "id": "1ea783cd",
   "metadata": {},
   "outputs": [
    {
     "data": {
      "image/png": "[encoded data removed]",
      "text/plain": [
       "<IPython.core.display.Image object>"
      ]
     },
     "metadata": {},
     "output_type": "display_data"
    }
   ],
   "source": [
    "display(Image(app.get_graph().draw_mermaid_png()))"
   ]
  },
  {
   "cell_type": "code",
   "execution_count": 39,
   "id": "c934b8dc",
   "metadata": {},
   "outputs": [
    {
     "data": {
      "text/plain": [
       "{'messages': [HumanMessage(content='Hi! What is the weather in India?', additional_kwargs={}, response_metadata={}, id='980aeebc-2697-4679-9225-965aa48a779f'),\n",
       "  AIMessage(content='', additional_kwargs={'tool_calls': [{'id': 'call_CLlbIBHTEsaxGFIGejc2Upa3', 'function': {'arguments': '{\"query\":\"current weather in India\"}', 'name': 'search'}, 'type': 'function'}], 'refusal': None}, response_metadata={'token_usage': {'completion_tokens': 16, 'prompt_tokens': 53, 'total_tokens': 69, 'completion_tokens_details': {'accepted_prediction_tokens': 0, 'audio_tokens': 0, 'reasoning_tokens': 0, 'rejected_prediction_tokens': 0}, 'prompt_tokens_details': {'audio_tokens': 0, 'cached_tokens': 0}}, 'model_name': 'gpt-4o-2024-08-06', 'system_fingerprint': 'fp_a288987b44', 'id': 'chatcmpl-BgUvA7qTvjLudjepEewMOcGZ66NNR', 'service_tier': 'default', 'finish_reason': 'tool_calls', 'logprobs': None}, id='run--806d2f03-7201-4947-a1a0-c315c20a43b4-0', tool_calls=[{'name': 'search', 'args': {'query': 'current weather in India'}, 'id': 'call_CLlbIBHTEsaxGFIGejc2Upa3', 'type': 'tool_call'}], usage_metadata={'input_tokens': 53, 'output_tokens': 16, 'total_tokens': 69, 'input_token_details': {'audio': 0, 'cache_read': 0}, 'output_token_details': {'audio': 0, 'reasoning': 0}}),\n",
       "  ToolMessage(content='the weather is hotty with some foggy', name='search', id='402e91e0-dbee-430c-bf25-062a0d8ee1a1', tool_call_id='call_CLlbIBHTEsaxGFIGejc2Upa3')]}"
      ]
     },
     "execution_count": 39,
     "metadata": {},
     "output_type": "execute_result"
    }
   ],
   "source": [
    "app.invoke({\"messages\":[\"Hi! What is the weather in India?\"]})"
   ]
  },
  {
   "cell_type": "code",
   "execution_count": 40,
   "id": "993cea6f",
   "metadata": {},
   "outputs": [],
   "source": [
    "from langchain_core.messages import HumanMessage , SystemMessage "
   ]
  },
  {
   "cell_type": "code",
   "execution_count": 41,
   "id": "716982fe",
   "metadata": {},
   "outputs": [],
   "source": [
    "sys_msg = SystemMessage(content=\"You are a helpful assistant that answers questions about the weather in India and Japan.\") "
   ]
  },
  {
   "cell_type": "code",
   "execution_count": 42,
   "id": "a4de4b81",
   "metadata": {},
   "outputs": [],
   "source": [
    "def assitant(state:MessagesState):\n",
    "    return {\"messages\":[llm_with_tool.invoke([sys_msg]+state[\"messages\"])]}"
   ]
  },
  {
   "cell_type": "code",
   "execution_count": 43,
   "id": "c9e3722d",
   "metadata": {},
   "outputs": [],
   "source": [
    "builder = StateGraph(MessagesState)"
   ]
  },
  {
   "cell_type": "code",
   "execution_count": 44,
   "id": "8376cb27",
   "metadata": {},
   "outputs": [
    {
     "data": {
      "text/plain": [
       "<langgraph.graph.state.StateGraph at 0x7736fd4da090>"
      ]
     },
     "execution_count": 44,
     "metadata": {},
     "output_type": "execute_result"
    }
   ],
   "source": [
    "builder.add_node(\"assit\",assitant)"
   ]
  },
  {
   "cell_type": "code",
   "execution_count": 45,
   "id": "630e9430",
   "metadata": {},
   "outputs": [
    {
     "data": {
      "text/plain": [
       "<langgraph.graph.state.StateGraph at 0x7736fd4da090>"
      ]
     },
     "execution_count": 45,
     "metadata": {},
     "output_type": "execute_result"
    }
   ],
   "source": [
    "builder.add_node(\"tools\",ToolNode(tools))"
   ]
  },
  {
   "cell_type": "code",
   "execution_count": 46,
   "id": "1ab0c1d9",
   "metadata": {},
   "outputs": [
    {
     "data": {
      "text/plain": [
       "<langgraph.graph.state.StateGraph at 0x7736fd4da090>"
      ]
     },
     "execution_count": 46,
     "metadata": {},
     "output_type": "execute_result"
    }
   ],
   "source": [
    "builder.add_edge(START,\"assit\")\n"
   ]
  },
  {
   "cell_type": "code",
   "execution_count": 47,
   "id": "77652177",
   "metadata": {},
   "outputs": [],
   "source": [
    "from langgraph.prebuilt import tools_condition"
   ]
  },
  {
   "cell_type": "code",
   "execution_count": 48,
   "id": "2b6085a0",
   "metadata": {},
   "outputs": [
    {
     "data": {
      "text/plain": [
       "<langgraph.graph.state.StateGraph at 0x7736fd4da090>"
      ]
     },
     "execution_count": 48,
     "metadata": {},
     "output_type": "execute_result"
    }
   ],
   "source": [
    "builder.add_conditional_edges(\n",
    "    \"assit\",\n",
    "    tools_condition\n",
    ")"
   ]
  },
  {
   "cell_type": "code",
   "execution_count": 49,
   "id": "f8e91589",
   "metadata": {},
   "outputs": [
    {
     "data": {
      "text/plain": [
       "<langgraph.graph.state.StateGraph at 0x7736fd4da090>"
      ]
     },
     "execution_count": 49,
     "metadata": {},
     "output_type": "execute_result"
    }
   ],
   "source": [
    "builder.add_edge(\"tools\",\"assit\")"
   ]
  },
  {
   "cell_type": "code",
   "execution_count": 50,
   "id": "77099897",
   "metadata": {},
   "outputs": [],
   "source": [
    "ReAct = builder.compile()"
   ]
  },
  {
   "cell_type": "code",
   "execution_count": 51,
   "id": "7fb55881",
   "metadata": {},
   "outputs": [
    {
     "data": {
      "image/png": "[encoded data removed]",
      "text/plain": [
       "<IPython.core.display.Image object>"
      ]
     },
     "metadata": {},
     "output_type": "display_data"
    }
   ],
   "source": [
    "display(Image(ReAct.get_graph().draw_mermaid_png()))"
   ]
  },
  {
   "cell_type": "code",
   "execution_count": 52,
   "id": "e033a512",
   "metadata": {},
   "outputs": [],
   "source": [
    "messages = [HumanMessage(content=\"what is weather in austria\")]"
   ]
  },
  {
   "cell_type": "code",
   "execution_count": 53,
   "id": "4f0d0641",
   "metadata": {},
   "outputs": [],
   "source": [
    "response = ReAct.invoke({\"messages\":messages})"
   ]
  },
  {
   "cell_type": "code",
   "execution_count": 54,
   "id": "ff9f770e",
   "metadata": {},
   "outputs": [
    {
     "name": "stdout",
     "output_type": "stream",
     "text": [
      "================================\u001b[1m Human Message \u001b[0m=================================\n",
      "\n",
      "what is weather in austria\n",
      "==================================\u001b[1m Ai Message \u001b[0m==================================\n",
      "\n",
      "I am designed to provide weather information specifically for India and Japan. You might want to check a global weather service for the weather in Austria.\n"
     ]
    }
   ],
   "source": [
    "for m in response[\"messages\"]:\n",
    "    m.pretty_print()"
   ]
  },
  {
   "cell_type": "code",
   "execution_count": null,
   "id": "ce170c92",
   "metadata": {},
   "outputs": [],
   "source": []
  }
 ],
 "metadata": {
  "kernelspec": {
   "display_name": "Python 3",
   "language": "python",
   "name": "python3"
  },
  "language_info": {
   "codemirror_mode": {
    "name": "ipython",
    "version": 3
   },
   "file_extension": ".py",
   "mimetype": "text/x-python",
   "name": "python",
   "nbconvert_exporter": "python",
   "pygments_lexer": "ipython3",
   "version": "3.12.1"
  }
 },
 "nbformat": 4,
 "nbformat_minor": 5
}

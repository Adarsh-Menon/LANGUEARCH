{
 "cells": [
  {
   "cell_type": "code",
   "execution_count": 2,
   "id": "c45f9aee",
   "metadata": {},
   "outputs": [
    {
     "data": {
      "text/plain": [
       "True"
      ]
     },
     "execution_count": 2,
     "metadata": {},
     "output_type": "execute_result"
    }
   ],
   "source": [
    "from dotenv import load_dotenv\n",
    "load_dotenv()"
   ]
  },
  {
   "cell_type": "code",
   "execution_count": 3,
   "id": "3a20c2cc",
   "metadata": {},
   "outputs": [],
   "source": [
    "#Importing multiple LLM models\n",
    "from langchain_google_genai import ChatGoogleGenerativeAI\n",
    "from langchain_groq import ChatGroq\n",
    "from langchain_openai import ChatOpenAI\n",
    "from langchain_anthropic import ChatAnthropic\n",
    "from langchain_huggingface import ChatHuggingFace , HuggingFaceEndpoint\n"
   ]
  },
  {
   "cell_type": "markdown",
   "id": "c5b6865f",
   "metadata": {},
   "source": [
    "## CHATMODELS"
   ]
  },
  {
   "cell_type": "code",
   "execution_count": 4,
   "id": "2da642b4",
   "metadata": {},
   "outputs": [
    {
     "name": "stderr",
     "output_type": "stream",
     "text": [
      "/workspaces/LANGUEARCH/.venv/lib/python3.12/site-packages/tqdm/auto.py:21: TqdmWarning: IProgress not found. Please update jupyter and ipywidgets. See https://ipywidgets.readthedocs.io/en/stable/user_install.html\n",
      "  from .autonotebook import tqdm as notebook_tqdm\n"
     ]
    }
   ],
   "source": [
    "llm = HuggingFaceEndpoint(repo_id=\"meta-llama/Llama-3.2-3B-Instruct\",\n",
    "                    task = \"text-generation\")"
   ]
  },
  {
   "cell_type": "code",
   "execution_count": 5,
   "id": "6e476975",
   "metadata": {},
   "outputs": [],
   "source": [
    "model = ChatHuggingFace(llm=llm,task=\"text-generation\")"
   ]
  },
  {
   "cell_type": "code",
   "execution_count": 6,
   "id": "948d470c",
   "metadata": {},
   "outputs": [
    {
     "data": {
      "text/plain": [
       "'1 + 1 = 2'"
      ]
     },
     "execution_count": 6,
     "metadata": {},
     "output_type": "execute_result"
    }
   ],
   "source": [
    "model.invoke(input=\"what is 1+1\").content"
   ]
  },
  {
   "cell_type": "code",
   "execution_count": 7,
   "id": "fe019b04",
   "metadata": {},
   "outputs": [],
   "source": [
    "gemini_model = ChatGoogleGenerativeAI(model=\"gemini-1.5-flash\")\n"
   ]
  },
  {
   "cell_type": "code",
   "execution_count": 8,
   "id": "e20afbcc",
   "metadata": {},
   "outputs": [
    {
     "data": {
      "text/plain": [
       "'The capital of the USA is **Washington, D.C.**'"
      ]
     },
     "execution_count": 8,
     "metadata": {},
     "output_type": "execute_result"
    }
   ],
   "source": [
    "gemini_model.invoke(\"what is capital of USA?\").content"
   ]
  },
  {
   "cell_type": "code",
   "execution_count": 9,
   "id": "30c8828c",
   "metadata": {},
   "outputs": [],
   "source": [
    "groq_llm = ChatGroq(model=\"deepseek-r1-distill-llama-70b\")"
   ]
  },
  {
   "cell_type": "code",
   "execution_count": 10,
   "id": "408ca8a4",
   "metadata": {},
   "outputs": [
    {
     "data": {
      "text/plain": [
       "\"<think>\\n\\n</think>\\n\\nThe United States of America (USA), commonly referred to as the United States (U.S.) or America, is a federal republic consisting of 50 states, a federal district (Washington, D.C.), and several territories. It is located in North America, bordered by Canada to the north, Mexico to the south, the Atlantic Ocean to the east, and the Pacific Ocean to the west.\\n\\nThe USA is one of the world's most influential and powerful nations, playing a significant role in global politics, economics, culture, and technology. It is a constitutional federal republic with a democratic government, where the President serves as both the head of state and the head of government.\\n\\nThe country is known for its diverse geography, which includes vast plains, mountains, forests, and coastlines. The U.S. economy is the largest in the world, driven by a diverse range of industries, including technology, healthcare, finance, and entertainment. The country is also home to some of the world's most prominent cities, such as New York City, Los Angeles, Chicago, and San Francisco.\\n\\nThe USA has a rich cultural history, influenced by its indigenous peoples, European colonization, African slavery, and immigration from around the world. This diversity is reflected in its music, art, literature, and cuisine. The country is also a global leader in education and innovation, with many of the world's top universities and research institutions located there.\\n\\nIn international affairs, the USA is a permanent member of the United Nations Security Council and plays a leading role in NATO and other international organizations. The country has a strong military and is a global leader in defense spending.\\n\\nThe USA is also known for its civil liberties, such as freedom of speech, press, and religion, which are protected by the Bill of Rights and the Constitution. However, the country has faced significant challenges, including racial inequality, political polarization, and social injustice, which continue to be topics of national debate and reform efforts.\""
      ]
     },
     "execution_count": 10,
     "metadata": {},
     "output_type": "execute_result"
    }
   ],
   "source": [
    "groq_llm.invoke(\"what is usa\").content"
   ]
  },
  {
   "cell_type": "code",
   "execution_count": 11,
   "id": "965ab35f",
   "metadata": {},
   "outputs": [
    {
     "ename": "SyntaxError",
     "evalue": "unterminated string literal (detected at line 1) (3342987487.py, line 1)",
     "output_type": "error",
     "traceback": [
      "  \u001b[36mCell\u001b[39m\u001b[36m \u001b[39m\u001b[32mIn[11]\u001b[39m\u001b[32m, line 1\u001b[39m\n\u001b[31m    \u001b[39m\u001b[31mopenai = ChatOpenAI(model=\"gpt-4)\u001b[39m\n                              ^\n\u001b[31mSyntaxError\u001b[39m\u001b[31m:\u001b[39m unterminated string literal (detected at line 1)\n"
     ]
    }
   ],
   "source": [
    "openai = ChatOpenAI(model=\"gpt-4)"
   ]
  },
  {
   "cell_type": "markdown",
   "id": "d5976226",
   "metadata": {},
   "source": [
    "## EMBEDDING MODELS"
   ]
  },
  {
   "cell_type": "code",
   "execution_count": 13,
   "id": "bf725e48",
   "metadata": {},
   "outputs": [],
   "source": [
    "from langchain_openai import OpenAIEmbeddings"
   ]
  },
  {
   "cell_type": "code",
   "execution_count": 20,
   "id": "f148711e",
   "metadata": {},
   "outputs": [],
   "source": [
    "embed = OpenAIEmbeddings(model=\"text-embedding-3-small\")"
   ]
  },
  {
   "cell_type": "code",
   "execution_count": 15,
   "id": "8fc6a643",
   "metadata": {},
   "outputs": [
    {
     "data": {
      "text/plain": [
       "[0.017260074615478516,\n",
       " 0.09725753962993622,\n",
       " 0.2637796700000763,\n",
       " 0.08927237242460251,\n",
       " -0.06536173820495605,\n",
       " -0.09366870671510696,\n",
       " 0.13879835605621338,\n",
       " 0.3450669050216675,\n",
       " -0.028822865337133408,\n",
       " 0.012291774153709412,\n",
       " 0.22143137454986572,\n",
       " -0.07931334525346756,\n",
       " -0.2040255069732666,\n",
       " -0.030011668801307678,\n",
       " 0.22161082923412323,\n",
       " 0.02801537699997425,\n",
       " 0.04589228332042694,\n",
       " -0.20492272078990936,\n",
       " -0.11520174145698547,\n",
       " 0.027006015181541443,\n",
       " 0.06760475784540176,\n",
       " 0.08756767958402634,\n",
       " 0.14086194336414337,\n",
       " 0.017820829525589943,\n",
       " 0.0919640064239502,\n",
       " 0.03117804042994976,\n",
       " -0.15073125064373016,\n",
       " -0.023641478270292282,\n",
       " 0.011585221625864506,\n",
       " -0.19648894667625427,\n",
       " -0.056658800691366196,\n",
       " -0.08595269918441772,\n",
       " -0.029428482055664062,\n",
       " -0.13099263608455658,\n",
       " 0.08940695971250534,\n",
       " 0.008046850562095642,\n",
       " 0.06477855145931244,\n",
       " 0.00036484195152297616,\n",
       " 0.11277927458286285,\n",
       " -0.056658800691366196,\n",
       " -0.044142723083496094,\n",
       " -0.2056404948234558,\n",
       " 0.01648622937500477,\n",
       " 0.2941053807735443,\n",
       " 0.029809795320034027,\n",
       " -0.08451716601848602,\n",
       " -0.2585758566856384,\n",
       " -0.06518229097127914,\n",
       " -0.021690046414732933,\n",
       " 0.0425950363278389,\n",
       " 0.02343960665166378,\n",
       " -0.21227984130382538,\n",
       " 0.021947994828224182,\n",
       " -0.05517840385437012,\n",
       " 0.09169483929872513,\n",
       " -0.05683824047446251,\n",
       " 0.09115651994943619,\n",
       " 0.1841074526309967,\n",
       " -0.0755450651049614,\n",
       " -0.023843349888920784,\n",
       " 0.15629394352436066,\n",
       " -0.15898558497428894,\n",
       " 0.1477704495191574,\n",
       " -0.0244265366345644]"
      ]
     },
     "execution_count": 15,
     "metadata": {},
     "output_type": "execute_result"
    }
   ],
   "source": [
    "embed.embed_query(\"india is a growing country\",dimensions=64)"
   ]
  },
  {
   "cell_type": "code",
   "execution_count": 16,
   "id": "9918cc80",
   "metadata": {},
   "outputs": [],
   "source": [
    "dcouments = [\"what is a continent\",\"whos is the prime minister of india\",\"whos the prime minster of dubai\"]"
   ]
  },
  {
   "cell_type": "code",
   "execution_count": 17,
   "id": "1d1815a2",
   "metadata": {},
   "outputs": [],
   "source": [
    "result = embed.embed_documents(dcouments)"
   ]
  },
  {
   "cell_type": "markdown",
   "id": "e8a7c8e9",
   "metadata": {},
   "source": [
    "## COSINE SIMILARITY / SIMILARITY SEARCH"
   ]
  },
  {
   "cell_type": "code",
   "execution_count": 18,
   "id": "45e4a2f7",
   "metadata": {},
   "outputs": [],
   "source": [
    "dcouments = [\"what is a continent\",\"whos is the prime minister of india\",\"whos the prime minster of dubai\"]\n",
    "my_query = \"Pepsi is a drink you can have during your cheatmeal while your staying in dubai\""
   ]
  },
  {
   "cell_type": "code",
   "execution_count": 23,
   "id": "82057ec2",
   "metadata": {},
   "outputs": [],
   "source": [
    "query_embeddings = embed.embed_documents(dcouments)\n",
    "my_query = embed.embed_query(my_query)"
   ]
  },
  {
   "cell_type": "code",
   "execution_count": 24,
   "id": "ddafca25",
   "metadata": {},
   "outputs": [],
   "source": [
    "from sklearn.metrics.pairwise import cosine_similarity"
   ]
  },
  {
   "cell_type": "code",
   "execution_count": 27,
   "id": "67b74f8f",
   "metadata": {},
   "outputs": [
    {
     "name": "stdout",
     "output_type": "stream",
     "text": [
      "[[0.09004046 0.07341379 0.33723573]]\n"
     ]
    }
   ],
   "source": [
    "score = cosine_similarity([my_query],query_embeddings)\n",
    "print(score)"
   ]
  },
  {
   "cell_type": "code",
   "execution_count": null,
   "id": "67ccefce",
   "metadata": {},
   "outputs": [],
   "source": []
  }
 ],
 "metadata": {
  "kernelspec": {
   "display_name": ".venv",
   "language": "python",
   "name": "python3"
  },
  "language_info": {
   "codemirror_mode": {
    "name": "ipython",
    "version": 3
   },
   "file_extension": ".py",
   "mimetype": "text/x-python",
   "name": "python",
   "nbconvert_exporter": "python",
   "pygments_lexer": "ipython3",
   "version": "3.12.1"
  }
 },
 "nbformat": 4,
 "nbformat_minor": 5
}

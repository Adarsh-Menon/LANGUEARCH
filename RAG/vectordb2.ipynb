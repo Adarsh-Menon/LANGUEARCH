{
 "cells": [
  {
   "cell_type": "code",
   "execution_count": null,
   "id": "f3a45ae4",
   "metadata": {},
   "outputs": [],
   "source": [
    "!pip install langchain langgraph langchain_community langchain_core "
   ]
  },
  {
   "cell_type": "code",
   "execution_count": 5,
   "id": "fa3b7b7a",
   "metadata": {},
   "outputs": [],
   "source": [
    "def fixed_length_chunking(text,chuck_size):\n",
    "    words = text.split()\n",
    "    chunks = [' '.join(words[i:i+chuck_size]) for i in range(0,len(words),chuck_size)] \n",
    "    return chunks"
   ]
  },
  {
   "cell_type": "code",
   "execution_count": 6,
   "id": "e48de850",
   "metadata": {},
   "outputs": [],
   "source": [
    "Text = \"is the lovely beach in the night and is playing the song well too nice and\""
   ]
  },
  {
   "cell_type": "code",
   "execution_count": 8,
   "id": "20a743df",
   "metadata": {},
   "outputs": [
    {
     "data": {
      "text/plain": [
       "['is the',\n",
       " 'lovely beach',\n",
       " 'in the',\n",
       " 'night and',\n",
       " 'is playing',\n",
       " 'the song',\n",
       " 'well too',\n",
       " 'nice and']"
      ]
     },
     "execution_count": 8,
     "metadata": {},
     "output_type": "execute_result"
    }
   ],
   "source": [
    "result = fixed_length_chunking(Text,2)\n",
    "result"
   ]
  },
  {
   "cell_type": "code",
   "execution_count": null,
   "id": "0ee713fa",
   "metadata": {},
   "outputs": [],
   "source": []
  }
 ],
 "metadata": {
  "kernelspec": {
   "display_name": "base",
   "language": "python",
   "name": "python3"
  },
  "language_info": {
   "codemirror_mode": {
    "name": "ipython",
    "version": 3
   },
   "file_extension": ".py",
   "mimetype": "text/x-python",
   "name": "python",
   "nbconvert_exporter": "python",
   "pygments_lexer": "ipython3",
   "version": "3.12.4"
  }
 },
 "nbformat": 4,
 "nbformat_minor": 5
}

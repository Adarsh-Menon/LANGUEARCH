{
 "cells": [
  {
   "cell_type": "code",
   "execution_count": 8,
   "id": "ff88b7bd",
   "metadata": {},
   "outputs": [],
   "source": [
    "#!pip install langchain langchain_community pypdf"
   ]
  },
  {
   "cell_type": "code",
   "execution_count": 28,
   "id": "698c3bc5",
   "metadata": {},
   "outputs": [
    {
     "data": {
      "text/plain": [
       "True"
      ]
     },
     "execution_count": 28,
     "metadata": {},
     "output_type": "execute_result"
    }
   ],
   "source": [
    "from dotenv import load_dotenv\n",
    "load_dotenv()"
   ]
  },
  {
   "cell_type": "code",
   "execution_count": 2,
   "id": "953d50ca",
   "metadata": {},
   "outputs": [],
   "source": [
    "from langchain_community.document_loaders import PyPDFLoader"
   ]
  },
  {
   "cell_type": "code",
   "execution_count": 5,
   "id": "4964866d",
   "metadata": {},
   "outputs": [
    {
     "name": "stderr",
     "output_type": "stream",
     "text": [
      "<>:1: SyntaxWarning: invalid escape sequence '\\e'\n",
      "<>:1: SyntaxWarning: invalid escape sequence '\\e'\n",
      "C:\\Users\\adars\\AppData\\Local\\Temp\\ipykernel_4268\\1271470143.py:1: SyntaxWarning: invalid escape sequence '\\e'\n",
      "  loader = PyPDFLoader(\"data\\eemh1ps.pdf\")\n"
     ]
    }
   ],
   "source": [
    "loader = PyPDFLoader(\"data\\eemh1ps.pdf\")"
   ]
  },
  {
   "cell_type": "code",
   "execution_count": 10,
   "id": "33d7c790",
   "metadata": {},
   "outputs": [],
   "source": [
    "documents = loader.load()"
   ]
  },
  {
   "cell_type": "code",
   "execution_count": 20,
   "id": "b66365f9",
   "metadata": {},
   "outputs": [
    {
     "data": {
      "text/plain": [
       "8"
      ]
     },
     "execution_count": 20,
     "metadata": {},
     "output_type": "execute_result"
    }
   ],
   "source": [
    "len(documents)"
   ]
  },
  {
   "cell_type": "code",
   "execution_count": null,
   "id": "5ae5045e",
   "metadata": {},
   "outputs": [
    {
     "data": {
      "text/plain": [
       "{'producer': 'Corel PDF Engine Version 22.1.1.523',\n",
       " 'creator': 'CorelDRAW 2020',\n",
       " 'creationdate': '2020-12-04T14:41:36+05:00',\n",
       " 'author': 'admin',\n",
       " 'moddate': '2024-05-20T10:40:49+05:30',\n",
       " 'title': 'Prelims 5.CDR',\n",
       " 'source': 'data\\\\eemh1ps.pdf',\n",
       " 'total_pages': 8,\n",
       " 'page': 0,\n",
       " 'page_label': '1'}"
      ]
     },
     "execution_count": 21,
     "metadata": {},
     "output_type": "execute_result"
    }
   ],
   "source": [
    "documents[i].metadata"
   ]
  },
  {
   "cell_type": "code",
   "execution_count": 27,
   "id": "6b749912",
   "metadata": {},
   "outputs": [
    {
     "name": "stdout",
     "output_type": "stream",
     "text": [
      "{'producer': 'Corel PDF Engine Version 22.1.1.523', 'creator': 'CorelDRAW 2020', 'creationdate': '2020-12-04T14:41:36+05:00', 'author': 'admin', 'moddate': '2024-05-20T10:40:49+05:30', 'title': 'Prelims 5.CDR', 'source': 'data\\\\eemh1ps.pdf', 'total_pages': 8, 'page': 0, 'page_label': '1'}\n",
      "\n",
      "\n",
      "****************************************************************************************************\n",
      "{'producer': 'Corel PDF Engine Version 22.1.1.523', 'creator': 'CorelDRAW 2020', 'creationdate': '2020-12-04T14:41:36+05:00', 'author': 'admin', 'moddate': '2024-05-20T10:40:49+05:30', 'title': 'Prelims 5.CDR', 'source': 'data\\\\eemh1ps.pdf', 'total_pages': 8, 'page': 1, 'page_label': '2'}\n",
      "\n",
      "\n",
      "****************************************************************************************************\n",
      "{'producer': 'Corel PDF Engine Version 22.1.1.523', 'creator': 'CorelDRAW 2020', 'creationdate': '2020-12-04T14:41:36+05:00', 'author': 'admin', 'moddate': '2024-05-20T10:40:49+05:30', 'title': 'Prelims 5.CDR', 'source': 'data\\\\eemh1ps.pdf', 'total_pages': 8, 'page': 2, 'page_label': '3'}\n",
      "\n",
      "\n",
      "****************************************************************************************************\n",
      "{'producer': 'Corel PDF Engine Version 22.1.1.523', 'creator': 'CorelDRAW 2020', 'creationdate': '2020-12-04T14:41:36+05:00', 'author': 'admin', 'moddate': '2024-05-20T10:40:49+05:30', 'title': 'Prelims 5.CDR', 'source': 'data\\\\eemh1ps.pdf', 'total_pages': 8, 'page': 3, 'page_label': '4'}\n",
      "\n",
      "\n",
      "****************************************************************************************************\n",
      "{'producer': 'Corel PDF Engine Version 22.1.1.523', 'creator': 'CorelDRAW 2020', 'creationdate': '2020-12-04T14:41:36+05:00', 'author': 'admin', 'moddate': '2024-05-20T10:40:49+05:30', 'title': 'Prelims 5.CDR', 'source': 'data\\\\eemh1ps.pdf', 'total_pages': 8, 'page': 4, 'page_label': '5'}\n",
      "\n",
      "\n",
      "****************************************************************************************************\n",
      "{'producer': 'Corel PDF Engine Version 22.1.1.523', 'creator': 'CorelDRAW 2020', 'creationdate': '2020-12-04T14:41:36+05:00', 'author': 'admin', 'moddate': '2024-05-20T10:40:49+05:30', 'title': 'Prelims 5.CDR', 'source': 'data\\\\eemh1ps.pdf', 'total_pages': 8, 'page': 5, 'page_label': '6'}\n",
      "\n",
      "\n",
      "****************************************************************************************************\n",
      "{'producer': 'Corel PDF Engine Version 22.1.1.523', 'creator': 'CorelDRAW 2020', 'creationdate': '2020-12-04T14:41:36+05:00', 'author': 'admin', 'moddate': '2024-05-20T10:40:49+05:30', 'title': 'Prelims 5.CDR', 'source': 'data\\\\eemh1ps.pdf', 'total_pages': 8, 'page': 6, 'page_label': '7'}\n",
      "\n",
      "\n",
      "****************************************************************************************************\n",
      "{'producer': 'Corel PDF Engine Version 22.1.1.523', 'creator': 'CorelDRAW 2020', 'creationdate': '2020-12-04T14:41:36+05:00', 'author': 'admin', 'moddate': '2024-05-20T10:40:49+05:30', 'title': 'Prelims 5.CDR', 'source': 'data\\\\eemh1ps.pdf', 'total_pages': 8, 'page': 7, 'page_label': '8'}\n",
      "\n",
      "\n",
      "****************************************************************************************************\n"
     ]
    }
   ],
   "source": [
    "for i in range(len(documents)):\n",
    "    l = documents[i].metadata\n",
    "    print(l)\n",
    "    print(\"\\n\")\n",
    "    print(\"*\"*100)"
   ]
  },
  {
   "cell_type": "code",
   "execution_count": 29,
   "id": "218bcc09",
   "metadata": {},
   "outputs": [],
   "source": [
    "from langchain_openai import OpenAIEmbeddings"
   ]
  },
  {
   "cell_type": "code",
   "execution_count": 30,
   "id": "9eb7a620",
   "metadata": {},
   "outputs": [],
   "source": [
    "openai = OpenAIEmbeddings(model=\"text-embedding-3-large\")"
   ]
  },
  {
   "cell_type": "code",
   "execution_count": 31,
   "id": "a7fc06b5",
   "metadata": {},
   "outputs": [
    {
     "name": "stdout",
     "output_type": "stream",
     "text": [
      "Collecting faiss-cpu\n",
      "  Downloading faiss_cpu-1.11.0-cp312-cp312-win_amd64.whl.metadata (5.0 kB)\n",
      "Requirement already satisfied: numpy<3.0,>=1.25.0 in c:\\users\\adars\\anaconda3\\lib\\site-packages (from faiss-cpu) (1.26.4)\n",
      "Requirement already satisfied: packaging in c:\\users\\adars\\anaconda3\\lib\\site-packages (from faiss-cpu) (23.2)\n",
      "Downloading faiss_cpu-1.11.0-cp312-cp312-win_amd64.whl (15.0 MB)\n",
      "   ---------------------------------------- 0.0/15.0 MB ? eta -:--:--\n",
      "   ---------------------------------------- 0.0/15.0 MB ? eta -:--:--\n",
      "   ---------------------------------------- 0.0/15.0 MB ? eta -:--:--\n",
      "   ---------------------------------------- 0.0/15.0 MB ? eta -:--:--\n",
      "   ---------------------------------------- 0.0/15.0 MB 245.8 kB/s eta 0:01:01\n",
      "   ---------------------------------------- 0.2/15.0 MB 833.5 kB/s eta 0:00:18\n",
      "   - -------------------------------------- 0.6/15.0 MB 2.5 MB/s eta 0:00:06\n",
      "   --- ------------------------------------ 1.1/15.0 MB 4.2 MB/s eta 0:00:04\n",
      "   ---- ----------------------------------- 1.8/15.0 MB 5.6 MB/s eta 0:00:03\n",
      "   ------- -------------------------------- 2.7/15.0 MB 7.4 MB/s eta 0:00:02\n",
      "   ---------- ----------------------------- 3.8/15.0 MB 9.3 MB/s eta 0:00:02\n",
      "   ------------ --------------------------- 4.5/15.0 MB 10.0 MB/s eta 0:00:02\n",
      "   -------------- ------------------------- 5.6/15.0 MB 11.2 MB/s eta 0:00:01\n",
      "   ---------------- ----------------------- 6.2/15.0 MB 11.3 MB/s eta 0:00:01\n",
      "   ----------------- ---------------------- 6.6/15.0 MB 11.7 MB/s eta 0:00:01\n",
      "   -------------------- ------------------- 7.8/15.0 MB 12.5 MB/s eta 0:00:01\n",
      "   ---------------------- ----------------- 8.6/15.0 MB 12.8 MB/s eta 0:00:01\n",
      "   ------------------------- -------------- 9.5/15.0 MB 13.2 MB/s eta 0:00:01\n",
      "   -------------------------- ------------- 10.1/15.0 MB 13.2 MB/s eta 0:00:01\n",
      "   --------------------------- ------------ 10.3/15.0 MB 14.9 MB/s eta 0:00:01\n",
      "   ----------------------------- ---------- 11.1/15.0 MB 16.8 MB/s eta 0:00:01\n",
      "   -------------------------------- ------- 12.1/15.0 MB 17.2 MB/s eta 0:00:01\n",
      "   ----------------------------------- ---- 13.1/15.0 MB 17.7 MB/s eta 0:00:01\n",
      "   ------------------------------------ --- 13.8/15.0 MB 16.8 MB/s eta 0:00:01\n",
      "   -------------------------------------- - 14.6/15.0 MB 16.8 MB/s eta 0:00:01\n",
      "   ---------------------------------------  15.0/15.0 MB 17.2 MB/s eta 0:00:01\n",
      "   ---------------------------------------- 15.0/15.0 MB 15.9 MB/s eta 0:00:00\n",
      "Installing collected packages: faiss-cpu\n",
      "Successfully installed faiss-cpu-1.11.0\n"
     ]
    }
   ],
   "source": [
    "!pip install faiss-cpu"
   ]
  },
  {
   "cell_type": "code",
   "execution_count": 34,
   "id": "e654223a",
   "metadata": {},
   "outputs": [
    {
     "data": {
      "text/plain": [
       "'Book 5Book 5\\nTextbook in Mathematics for Class VTextbook in Mathematics for Class V\\nBook 5\\nTextbook in Mathematics for Class V\\nReprint 2024-25'"
      ]
     },
     "execution_count": 34,
     "metadata": {},
     "output_type": "execute_result"
    }
   ],
   "source": [
    "documents[0].page_content"
   ]
  },
  {
   "cell_type": "code",
   "execution_count": 36,
   "id": "1eb571ff",
   "metadata": {},
   "outputs": [],
   "source": [
    "dim = len(openai.embed_query(documents[0].page_content))"
   ]
  },
  {
   "cell_type": "code",
   "execution_count": 32,
   "id": "2d6f1d0a",
   "metadata": {},
   "outputs": [],
   "source": [
    "import faiss"
   ]
  },
  {
   "cell_type": "code",
   "execution_count": 37,
   "id": "a4135a9a",
   "metadata": {},
   "outputs": [],
   "source": [
    "db = faiss.IndexFlatIP(dim)"
   ]
  },
  {
   "cell_type": "code",
   "execution_count": 42,
   "id": "7ffc5a74",
   "metadata": {},
   "outputs": [
    {
     "name": "stdout",
     "output_type": "stream",
     "text": [
      "['Book 5Book 5\\nTextbook in Mathematics for Class VTextbook in Mathematics for Class V\\nBook 5\\nTextbook in Mathematics for Class V\\nReprint 2024-25', 'Publication Team\\nHead, Publication : Anup Kumar Rajput\\nDivision\\nChief Editor  : Shveta Uppal\\nChief Production : Arun Chitkara\\nOfficer \\nChief Business : Amitabh Kumar\\nManager (In charge)\\nAssistant Production  : Deepak Jaiswal \\nOfficer\\nFOREWORD\\nThe National Curriculum Framework (NCF), 2005, recommends that children’s life \\nat school must be linked to their life outside the school. This principle marks a \\ndeparture from the legacy of bookish learning which continues to shape our system \\nand causes a gap between the school, home and community. The syllabi and \\ntextbooks developed on the basis of NCF signify an attempt to implement this basic \\nidea. They also attempt to discourage rote learning and the maintenance of sharp \\nboundaries between different subject areas. We hope these measures will take us \\nsignificantly further in the direction of a child-centred system of education outlined \\nin the National Policy on Education (1986).\\nThe success of this effort depends on the steps that school principals and \\nteachers will take to encourage children to reflect on their own learning and to \\npursue imaginative activities and questions. We must recognise that given space, \\ntime and freedom, children generate new knowledge by engaging with the \\ninformation passed on to them by adults. Treating the prescribed textbook as the \\nsole basis of examination is one of the key reasons why other resources and sites of \\nlearning are ignored. Inculcating creativity and initiative is possible if we perceive \\nand treat children as participants in learning, not as receivers of a fixed body of \\nknowledge.\\nThese aims imply considerable change in school routines and mode of \\nfunctioning. Flexibility in the daily time-table is as necessary as rigour in \\nimplementing the annual calendar so that the required number of teaching days \\nare actually devoted to teaching. The methods used for teaching and evaluation will \\nalso determine how effective this textbook proves for making children’s life at \\nschool a happy experience, rather than a source of stress or boredom. Syllabus \\ndesigners have tried to address the problem of curricular burden by restructuring \\nand reorienting knowledge at different stages with greater consideration for child \\npsychology and the time available for teaching. The textbook attempts to enhance \\nthis endeavour by giving higher priority and space to opportunities for \\ncontemplation and wondering, discussion in small groups, and activities requiring \\nhands-on experience.\\nNational Council of Educational Research and Training (NCERT) appreciates \\nthe hard work done by the Textbook Development Committee responsible for this \\nbook. We wish to thank the Chairperson of the Advisory Committee, Professor Anita \\nRampal and the Chief Advisor for this book, Professor Amitabha Mukherjee for \\nguiding the work of this committee. Several teachers contributed to the \\ndevelopment of this textbook; we are grateful to their principals for making this \\npossible. We are indebted to the institutions and organisations which have \\ngenerously permitted us to draw upon their resources, material and personnel. We \\nare especially grateful to the members of the National Monitoring Committee, \\nappointed by the Department of Secondary and Higher Education, Ministry of \\nHuman Resource Development under the Chairpersonship of Professor Mrinal Miri \\nand Professor G.P. Deshpande, for their valuable time and contribution. As an \\norganisation committed to the systemic reform and  continuous improvement in \\nthe quality of its products, NCERT welcomes comments and suggestions which will \\nenable us to undertake further revision and refinement.\\n Director\\nNew Delhi National Council of Educational\\n30 November 2007 Research and Training\\nALL RIGHTS RESERVED\\nq No part of this publication may be reproduced, stored in a retrieval \\nsystem or transmitted, in any form or by any means, electronic, \\nmechanical, photocopying, recording or otherwise without the prior \\npermission of the publisher.\\nq This book is sold subject to the condition that it shall not, by way of \\ntrade,  be lent,  re-sold, hired out or otherwise disposed of without the \\npublisher’s consent, in any form of binding or cover other than that in \\nwhich it is published.\\nq The correct price of this publication is the price printed on this page, \\nAny revised price indicated by a rubber stamp or by a sticker or by any \\nother means is incorrect and should be unacceptable.\\nOFFICES OF THE PUBLICATION \\nDIVISION, NCERT\\nNCERT Campus\\nSri Aurobindo Marg\\nNew  Delhi 110 016 Phone :  011-26562708\\n108, 100 Feet Road \\nHosdakere Halli Extension\\nBanashankari III Stage\\nBangaluru 560 085 Phone : 080-26725740\\nNavjivan Trust Building\\nP .O.Navjivan \\nAhmedabad 380 014 Phone :  079-27541446\\nCWC Campus\\nOpp. Dhankal Bus Stop\\nPanihati\\nKolkata 700 114 Phone :  033-25530454\\nCWC Complex\\nMaligaon  \\nGuwahati 781 021 Phone :  0361-2674869\\nFirst Edition    \\nMarch 2008  Phalguna 1929\\nReprinted\\nJanuary 2009 Magha 1930 \\nJanuary 2010 Magha 1931\\nJanuary 2011 Magha 1932\\nDecember 2011 Agrahayana 1933\\nDecember 2012 Agrahayana 1934\\nDecember 2013 Agrahayana 1935\\nDecember 2014 Pausa 1936\\nNovember 2017 Agrahayana 1939\\nDecember 2018 Agrahayana 1940\\nDecember 2019 Pausa 1941\\nJanuary 2021 Pausa 1942\\nNovember 2021 Agrahayana 1943\\nNovember 2022 Kartika 1944\\nMarch 2024 Chaitra 1946\\nPD 150T SU\\n© National Council of Educational \\nResearch and Training, 2008\\n` 65.00\\nPrinted on 80 GSM paper with NCERT \\nwatermark\\nPublished at the Publication Division by \\nthe Secretary, National Council of \\nEducational Research and Training, \\nSri Aurobindo Marg, New Delhi 110 016 \\nand printed at Nova Publications, C-51, \\nFocal Point Extn., Jalandhar-144 004\\nISBN  978-81-7450-828-70527 – MATH MAGIC\\nTextbook for Class V\\nPublished at the Publication \\nDivision by the Secretary, National \\nCouncil of Educational Research \\nand Training, Sri Aurobindo Marg, \\nNew Delhi 110 016 and printed at \\nAnkur Offset Pvt. Ltd., A-54, \\nSector-63, Noida - 201 301 (U.P.)\\nReprint 2024-25', 'ISBN  978-81-7450-828-7\\nPublication Team\\nHead, Publication : Anup Kumar Rajput\\nDivision\\nChief Editor  : Shveta Uppal\\nChief Production : Arun Chitkara\\nOfficer \\nChief Business : Vipin Dewan\\nManager (In charge)\\nEditor : Bijnan Sutar\\nProduction Assistant : \\nFOREWORD\\nThe National Curriculum Framework (NCF), 2005, recommends that children’s life \\nat school must be linked to their life outside the school. This principle marks a \\ndeparture from the legacy of bookish learning which continues to shape our system \\nand causes a gap between the school, home and community. The syllabi and \\ntextbooks developed on the basis of NCF signify an attempt to implement this basic \\nidea. They also attempt to discourage rote learning and the maintenance of sharp \\nboundaries between different subject areas. We hope these measures will take us \\nsignificantly further in the direction of a child-centred system of education outlined \\nin the National Policy on Education (1986).\\nThe success of this effort depends on the steps that school principals and \\nteachers will take to encourage children to reflect on their own learning and to \\npursue imaginative activities and questions. We must recognise that given space, \\ntime and freedom, children generate new knowledge by engaging with the \\ninformation passed on to them by adults. Treating the prescribed textbook as the \\nsole basis of examination is one of the key reasons why other resources and sites of \\nlearning are ignored. Inculcating creativity and initiative is possible if we perceive \\nand treat children as participants in learning, not as receivers of a fixed body of \\nknowledge.\\nThese aims imply considerable change in school routines and mode of \\nfunctioning. Flexibility in the daily time-table is as necessary as rigour in \\nimplementing the annual calendar so that the required number of teaching days \\nare actually devoted to teaching. The methods used for teaching and evaluation will \\nalso determine how effective this textbook proves for making children’s life at \\nschool a happy experience, rather than a source of stress or boredom. Syllabus \\ndesigners have tried to address the problem of curricular burden by restructuring \\nand reorienting knowledge at different stages with greater consideration for child \\npsychology and the time available for teaching. The textbook attempts to enhance \\nthis endeavour by giving higher priority and space to opportunities for \\ncontemplation and wondering, discussion in small groups, and activities requiring \\nhands-on experience.\\nNational Council of Educational Research and Training (NCERT) appreciates \\nthe hard work done by the Textbook Development Committee responsible for this \\nbook. We wish to thank the Chairperson of the Advisory Committee, Professor Anita \\nRampal and the Chief Advisor for this book, Professor Amitabha Mukherjee for \\nguiding the work of this committee. Several teachers contributed to the \\ndevelopment of this textbook; we are grateful to their principals for making this \\npossible. We are indebted to the institutions and organisations which have \\ngenerously permitted us to draw upon their resources, material and personnel. We \\nare especially grateful to the members of the National Monitoring Committee, \\nappointed by the Department of Secondary and Higher Education, Ministry of \\nHuman Resource Development under the Chairpersonship of Professor Mrinal Miri \\nand Professor G.P. Deshpande, for their valuable time and contribution. As an \\norganisation committed to the systemic reform and  continuous improvement in \\nthe quality of its products, NCERT welcomes comments and suggestions which will \\nenable us to undertake further revision and refinement.\\n Director\\nNew Delhi National Council of Educational\\n30 November 2007 Research and Training\\nALL RIGHTS RESERVED\\nq No part of this publication may be reproduced, stored in a retrieval \\nsystem or transmitted, in any form or by any means, electronic, \\nmechanical, photocopying, recording or otherwise without the prior \\npermission of the publisher.\\nq This book is sold subject to the condition that it shall not, by way of \\ntrade,  be lent,  re-sold, hired out or otherwise disposed of without the \\npublisher’s consent, in any form of binding or cover other than that in \\nwhich it is published.\\nq The correct price of this publication is the price printed on this page, \\nAny revised price indicated by a rubber stamp or by a sticker or by any \\nother means is incorrect and should be unacceptable.\\nOFFICES OF THE PUBLICATION \\nDIVISION, NCERT\\nNCERT Campus\\nSri Aurobindo Marg\\nNew  Delhi 110 016 Phone :  011-26562708\\n108, 100 Feet Road \\nHosdakere Halli Extension\\nBanashankari III Stage\\nBangaluru 560 085 Phone : 080-26725740\\nNavjivan Trust Building\\nP .O.Navjivan \\nAhmedabad 380 014 Phone :  079-27541446\\nCWC Campus\\nOpp. Dhankal Bus Stop\\nPanihati\\nKolkata 700 114 Phone :  033-25530454\\nCWC Complex\\nMaligaon  \\nGuwahati 781 021 Phone :  0361-2674869\\nFirst Edition    \\nMarch 2008  Phalguna 1929\\nReprinted\\nJanuary 2009 Magha 1930 \\nJanuary 2010 Magha 1931\\nJanuary 2011 Magha 1932\\nDecember 2011 Agrahayana 1933\\nDecember 2012 Agrahayana 1934\\nDecember 2013 Agrahayana 1935\\nDecember 2014 Pausa 1936\\nNovember 2017 Agrahayana 1939\\nDecember 2018 Agrahayana 1940\\nDecember 2019 Pausa 1941\\nJanuary 2021 Pausa 1942\\nPD 125T RSP\\n© National Council of Educational \\nResearch and Training, 2008\\n` ......00\\nPrinted on 80 GSM paper with NCERT \\nwatermark\\nPublished at the Publication Division by \\nthe Secretary, National Council of \\nEducational Research and Training, Sri \\nAurobindo Marg, New Delhi 110 016 and \\nprinted at\\nReprint 2024-25', 'TEXTBOOK DEVELOPMENT COMMITEE\\nCHAIRPERSON, ADVISORY COMMITTEE FOR TEXTBOOKS AT THE PRIMARY LEVEL\\nAnita Rampal, Professor, Department of Education, Delhi University, Delhi\\nCHIEF ADVISOR\\nAmitabha Mukherjee, Director, Centre for Science Education and Communication (CSEC), \\nDelhi University, Delhi\\nMEMBERS\\nAnita Rampal, Professor, Department of Education, Delhi University, Delhi\\nAsmita Varma, Primary Teacher, Navyug School, Lodhi Road, New Delhi\\nBhavna, Lecturer, DEE, Gargi College, New Delhi\\nDharam Parkash, Professor, DESM, NCERT, New Delhi\\nHema Batra, Primary Teacher, CRPF Public School, Rohini, Delhi\\nJyoti Sethi, Primary Teacher, Sarvodaya Kanya Vidyalaya, Ashok Vihar, Phase II, Delhi\\nKanika Sharma, Primary Teacher, Kulachi Hansraj Model School, Ashok Vihar, Delhi\\nPrakasan V.K., Lecturer, DIET, Malappuram, Tirur, Kerala\\nPreeti Chadha Sadh, Primary Teacher, Basic School, CIE, Delhi University, Delhi\\nSuneeta Mishra, Primary Teacher, N.P. Primary School, Sarojini Nagar, New Delhi\\nMEMBER–COORDINATOR\\nInder Kumar Bansal, Professor, DEE, NCERT, New Delhi\\nILLUSTRATIONS AND DESIGN TEAM\\nSrivi Kalyan, New Delhi\\nNancy Raj, Chennai\\nAnita Varma, Bangkok\\nTaposhi Ghoshal, New Delhi\\nSougata Guha, The Srijan School, Model Town, Delhi\\nCover Design: Srivi Kalyan\\nLayout and design support\\nAnita Rampal, Sadiq Saeed\\nReprint 2024-25', 'TEXTBOOK DEVELOPMENT COMMITEE\\nCHAIRPERSON, ADVISORY COMMITTEE FOR TEXTBOOKS AT THE PRIMARY LEVEL\\nAnita Rampal, Professor, Department of Education, Delhi University, Delhi\\nCHIEF ADVISOR\\nAmitabha Mukherjee, Director, Centre for Science Education and Communication (CSEC), \\nDelhi University, Delhi\\nMEMBERS\\nAnita Rampal, Professor, Department of Education, Delhi University, Delhi\\nAsmita Varma, Primary Teacher, Navyug School, Lodhi Road, New Delhi\\nBhavna, Lecturer, DEE, Gargi College, New Delhi\\nDharam Parkash, Professor, DESM, NCERT, New Delhi\\nHema Batra, Primary Teacher, CRPF Public School, Rohini, Delhi\\nJyoti Sethi, Primary Teacher, Sarvodaya Kanya Vidyalaya, Ashok Vihar, Phase II, Delhi\\nKanika Sharma, Primary Teacher, Kulachi Hansraj Model School, Ashok Vihar, Delhi\\nPrakasan V.K., Lecturer, DIET, Malappuram, Tirur, Kerala\\nPreeti Chadha Sadh, Primary Teacher, Basic School, CIE, Delhi University, Delhi\\nSuneeta Mishra, Primary Teacher, N.P. Primary School, Sarojini Nagar, New Delhi\\nMEMBER–COORDINATOR\\nInder Kumar Bansal, Professor, DEE, NCERT, New Delhi\\nILLUSTRATIONS AND DESIGN TEAM\\nSrivi Kalyan, New Delhi\\nNancy Raj, Chennai\\nAnita Varma, Bangkok\\nTaposhi Ghoshal, New Delhi\\nSougata Guha, The Srijan School, Model Town, Delhi\\nCover Design: Srivi Kalyan\\nLayout and design support\\nAnita Rampal, Sadiq Saeed\\nReprint 2024-25', \"1. The Fish Tale 1 \\n 2. Shapes and Angles 16\\n 3. How Many Squares? 34\\n 4. Parts and Wholes 50\\n 5. Does it Look the Same? 71\\n 6. Be My Multiple, I'll be Your Factor 87\\n 7. Can You See the Pattern? 99\\n 8. Mapping Your Way 112\\n 9. Boxes and Sketches 126\\n 10. Tenths and Hundredths 134\\n 11. Area and its Boundary 146\\n 12. Smart Charts 159\\n 13. Ways to Multiply and Divide 170\\n 14. How Big? How Heavy? 187\\nMATH-MAGIC\\nWhat is inside this book?\\nACKNOWLEDGEMENTS\\n National Council of Educational Research and \\nTraining (NCERT) thanks the following persons and \\ninstitutions for their contribution towards this textbook. \\nSpecial thanks are due to the Centre for Science \\nEducation and Communication (CSEC), Delhi University, \\nfor providing academic support and hosting all the \\ntextbook development workshops. The teams were fully \\nsupported by the staff, who put in tremendous effort \\nthrough long working hours even on holidays.\\nThe Council gratefully acknowledges the \\ncontributions of Sadiq Saeed (DTP Operator), Inderjeet \\nJairath (Proof Reader) and Shakamber Dutt (Computer \\nStation Incharge) in shaping this book.\\nThe Council also acknowledges the support of \\nMr. Venugopal and the International Collective in \\nSupport of Fishworkers (ICSF), Chennai, in providing \\ndetailed information and photographs about boats and \\nfishworkers. The stories of the farmers in Vidarbha are \\nadapted from reports by P. Sainath and Jaideep \\nHardikar. The support offered by K.K. Vashishtha, \\nHead, Department of Elementary Education, NCERT is \\nalso gratefully acknowledged. The Council \\nacknowledges the support of  Eklavya, Bhopal for the \\nchildren's drawings and some mathematical puzzles. \\nFor the photographs the Council gratefully \\nacknowledges the contribution of the following: \\nChapter 1 — MPEDA, (Marine Products Exports \\nDevelopment Authority) Kerala, ICSF \\n(International Collective in Support of \\nFishworkers), Chennai, and Prakasan V.K.\\nChapter 2 — R.C. Das, CIET\\nChapter 8 — Raghu Rai and Delhi Tourism \\nDevelopment Corporation, Karnail Singh, \\nBhavna\\nChapter 9 — Anita Rampal, Bhavna, Preeti Chadha Sadh\\nChapter 10 — Nan Moore, Tad Arensmeier\\nChapter 11 — Bhavna, Hema Batra\\nChapter 14 — Bhavna, Kalyani Raghunathan\\n The following are applicable to all the maps of India used in this book\\n© Government of India, Copyright 2006\\n1. The responsibility for the correctness of internal details rests with the \\npublisher.\\n2. The territorial waters of India extend into the sea to a distance of twelve \\nnautical miles measured from the appropriate base line.\\n3. The administrative headquarters of Chandigarh, Haryana and Punjab are at \\nChandigarh.\\n4. The interstate boundaries amongst Arunachal Pradesh, Assam and Meghalaya \\nshown on this map are  as interpreted from the “North-Eastern Areas \\n(Reorganisation) Act.1971,” but have yet to be verified.\\n5. The external boundaries and coastlines of India agree with the Record/Master \\nCopy certified by Survey of India.\\n6. The state boundaries between Uttarakhand & Uttar Pradesh, Bihar & \\nJharkhand and Chhattisgarh & Madhya Pradesh have not been verified by the \\nGovernments concerned.\\n7. The spellings of names in this map, have been taken from various sources.\\nReprint 2024-25\", \"1. The Fish Tale 1 \\n 2. Shapes and Angles 16\\n 3. How Many Squares? 34\\n 4. Parts and Wholes 50\\n 5. Does it Look the Same? 71\\n 6. Be My Multiple, I'll be Your Factor     87\\n 7. Can You See the Pattern?               99\\n 8. Mapping Your Way 112\\n 9. Boxes and Sketches 126\\n 10. Tenths and Hundredths 134\\n 11. Area and its Boundary 146\\n 12. Smart Charts 159\\n 13. Ways to Multiply and Divide 170\\n 14. How Big? How Heavy? 187\\nMATH-MAGIC\\nWhat is inside this book?\\nReprint 2024-25\", 'Reprint 2024-25']\n"
     ]
    }
   ],
   "source": [
    "l = []\n",
    "for i in range(len(documents)):\n",
    "    l.append(documents[i].page_content)\n",
    "print(l)"
   ]
  },
  {
   "cell_type": "code",
   "execution_count": 49,
   "id": "90cc4140",
   "metadata": {},
   "outputs": [],
   "source": [
    "doc = openai.embed_documents(l)"
   ]
  },
  {
   "cell_type": "code",
   "execution_count": 51,
   "id": "5645f0d7",
   "metadata": {},
   "outputs": [],
   "source": [
    "import numpy as np\n",
    "docs = np.array(doc,dtype=np.float32)"
   ]
  },
  {
   "cell_type": "code",
   "execution_count": 52,
   "id": "0cb0b326",
   "metadata": {},
   "outputs": [],
   "source": [
    "db.add(docs)"
   ]
  }
 ],
 "metadata": {
  "kernelspec": {
   "display_name": "base",
   "language": "python",
   "name": "python3"
  },
  "language_info": {
   "codemirror_mode": {
    "name": "ipython",
    "version": 3
   },
   "file_extension": ".py",
   "mimetype": "text/x-python",
   "name": "python",
   "nbconvert_exporter": "python",
   "pygments_lexer": "ipython3",
   "version": "3.12.4"
  }
 },
 "nbformat": 4,
 "nbformat_minor": 5
}
